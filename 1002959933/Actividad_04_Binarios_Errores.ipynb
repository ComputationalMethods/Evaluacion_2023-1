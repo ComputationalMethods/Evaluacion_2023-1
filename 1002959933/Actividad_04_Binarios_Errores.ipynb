{
  "cells": [
    {
      "cell_type": "markdown",
      "id": "6d26e874",
      "metadata": {
        "id": "6d26e874"
      },
      "source": [
        "<a href=\"https://colab.research.google.com/github/hernansalinas/autogrades/blob/main/Actividades_clase/Actividad_04_Binarios_Errores.ipynb\" target=\"_parent\"><img src=\"https://colab.research.google.com/assets/colab-badge.svg\" alt=\"Open In Colab\"/></a>\n",
        "\n",
        "\n",
        "\n",
        "# Actividad 4\n",
        "### Métodos computacionales para físicos  y astrónomos\n",
        "### Universidad de Antioquia\n",
        "### Prof: Hernan D. Salinas Jiménez\n"
      ]
    },
    {
      "cell_type": "code",
      "execution_count": 1,
      "id": "eae80e3f",
      "metadata": {
        "id": "eae80e3f",
        "outputId": "7b475e4c-5779-48be-e9ef-5e0013f259ea",
        "colab": {
          "base_uri": "https://localhost:8080/"
        }
      },
      "outputs": [
        {
          "output_type": "stream",
          "name": "stdout",
          "text": [
            "Cloning into 'autogrades'...\n",
            "remote: Enumerating objects: 281, done.\u001b[K\n",
            "remote: Counting objects: 100% (265/265), done.\u001b[K\n",
            "remote: Compressing objects: 100% (188/188), done.\u001b[K\n",
            "remote: Total 281 (delta 115), reused 210 (delta 70), pack-reused 16\u001b[K\n",
            "Receiving objects: 100% (281/281), 33.86 MiB | 17.00 MiB/s, done.\n",
            "Resolving deltas: 100% (120/120), done.\n"
          ]
        }
      ],
      "source": [
        "!git clone https://github.com/hernansalinas/autogrades.git\n",
        "#path=\"libs\"\n",
        "path=\"autogrades/Actividades_clase/libs\"\n",
        "%run -i {path}/libUnitTest.py"
      ]
    },
    {
      "cell_type": "markdown",
      "id": "74f1131a",
      "metadata": {
        "id": "74f1131a"
      },
      "source": [
        "### Activity 1.0: \n",
        "\n",
        "Implement a function that get the binary representation of an integer with name mybin, the algorithm should return \n",
        "a string with 8 characters, the maximun number that represent the funcition is integer of 8 bit. The name of function is \n",
        "mybin\n",
        "\n",
        "Ejexample : \n",
        "\n",
        "b=mybin(x)\n",
        "\n",
        "b='00101000'"
      ]
    },
    {
      "cell_type": "code",
      "source": [
        "##!/usr/bin/env python3\n",
        "def mybin(x):\n",
        "    listb=[]\n",
        "    print('__name__ = {}'.format(__name__))\n",
        "    while x>0:\n",
        "      cociente =x//2 \n",
        "      resto=x%2  \n",
        "      listb.append(str(resto))\n",
        "      x=cociente\n",
        "    stri=''.join(reversed(listb)).rjust(8,'0')\n",
        "    return stri"
      ],
      "metadata": {
        "id": "2hSX-qmvDY5r"
      },
      "id": "2hSX-qmvDY5r",
      "execution_count": 2,
      "outputs": []
    },
    {
      "cell_type": "code",
      "execution_count": 3,
      "id": "885be6fb",
      "metadata": {
        "id": "885be6fb",
        "outputId": "8521c0a9-8921-4f28-9c5a-bfb74a5696c4",
        "colab": {
          "base_uri": "https://localhost:8080/",
          "height": 282
        }
      },
      "outputs": [
        {
          "output_type": "stream",
          "name": "stdout",
          "text": [
            "__name__ = __main__\n",
            "__name__ = __main__\n",
            "__name__ = __main__\n"
          ]
        },
        {
          "output_type": "display_data",
          "data": {
            "text/plain": [
              "<IPython.core.display.HTML object>"
            ],
            "text/html": [
              "<style>\n",
              "  table { text-align: left; border-collapse: collapse; margin: 1em; caption-side: bottom; font-family: Sans-Serif; font-size: 12px}\n",
              "  caption { text-align: left; padding: 5px }\n",
              "  th, td { border: 2px solid #BFC9CA; padding: 5px }\n",
              "  th { background-color: #BFC9CA }\n",
              "  .passed { background-color: #76D7C4 }\n",
              "  .failed { background-color: #EC7063 }\n",
              "  .skipped { background-color: #EDBB99 }\n",
              "  .score { background-color: #7DCEA0 }\n",
              "  .results .points { display: none }\n",
              "  .results .message { display: block; font-size:smaller; color:#D35400 }\n",
              "  .results .note { display: block; font-size:smaller; font-decoration:italics }\n",
              "  .results .passed::before  { content: \"Passed\" } \n",
              "  .results .skipped::before  { content: \"Skipped\" } \n",
              "  .results .failed::before  { content: \"Failed\" } \n",
              "  .grade .passed  .message:empty::before { content:\"Passed\" }\n",
              "  .grade .failed  .message:empty::before { content:\"Failed\" }\n",
              "  .grade .skipped .message:empty::before { content:\"Skipped\" }   \n",
              "</style>\n",
              "<table class='results'>\n",
              "  <th class='test'>Test</th><th class='result'>Result</th></tr>\n",
              "<tr>\n",
              "  <td class='test'>\n",
              "    La salida debe ser un string \n",
              "    <div class='message'>Done</div>\n",
              "  </td>\n",
              "  <td class='result passed'></td>\n",
              "</tr>\n",
              "<tr>\n",
              "  <td class='test'>\n",
              "    La longitud del string debe ser de 8 \n",
              "    <div class='message'>Done</div>\n",
              "  </td>\n",
              "  <td class='result passed'></td>\n",
              "</tr>\n",
              "<tr>\n",
              "  <td class='test'>\n",
              "    Para el número 169 su representacion es 10101001 \n",
              "    <div class='message'>Done</div>\n",
              "  </td>\n",
              "  <td class='result passed'></td>\n",
              "</tr>  <tr><th class='score'>Total Points</th><th class='score'>3</th></tr></table>\n"
            ]
          },
          "metadata": {}
        }
      ],
      "source": [
        "%run -i {path}/Act_02/test01.py"
      ]
    },
    {
      "cell_type": "markdown",
      "id": "e622b7b5",
      "metadata": {
        "id": "e622b7b5"
      },
      "source": [
        "### Activity 2.0: \n",
        "\n",
        "With the binary representation please try to implement the formula to recover the number.\n",
        "\n",
        "Hint: Use as input the binary representation as a string and invert its order\n",
        "\n",
        "```\n",
        "number32(BIN):\n",
        "\n",
        "```\n",
        "\n",
        "Where BIN is a string with the binary number\n",
        "\n",
        "Example: \n",
        "\n",
        "\n",
        "Test your solution for the next number:\n",
        "\n",
        "number32(\"00111110001000000000001000010000\")"
      ]
    },
    {
      "cell_type": "code",
      "source": [
        "##!/usr/bin/env python3\n",
        "import numpy as np\n",
        "def number32(BIN):\n",
        "  BIN=np.array(list(BIN[::-1])).astype(int)\n",
        "  signo=BIN[31]\n",
        "  #parte Exponente\n",
        "  bi1=BIN[23:31]\n",
        "  i=np.arange(0,8,1)\n",
        "  e=(bi1*2**i).sum()\n",
        "  #parte fraccionaria\n",
        "  bi2=BIN[0:23]\n",
        "  i2=np.arange(0,23)\n",
        "  pf=(bi2/(2**(23-i2))).sum()\n",
        "  a=(-1)**signo/(2**(127-e))\n",
        "  b=1+pf\n",
        "  r=a*b\n",
        "  return r"
      ],
      "metadata": {
        "id": "tbMfyxS0PR3U"
      },
      "id": "tbMfyxS0PR3U",
      "execution_count": 4,
      "outputs": []
    },
    {
      "cell_type": "code",
      "source": [
        "number32(\"00111110001000000000000000000000\")\n"
      ],
      "metadata": {
        "colab": {
          "base_uri": "https://localhost:8080/"
        },
        "id": "hk7wg1F4Duig",
        "outputId": "df0ea1b4-7abf-4f71-9d8f-85783645675a"
      },
      "id": "hk7wg1F4Duig",
      "execution_count": 5,
      "outputs": [
        {
          "output_type": "execute_result",
          "data": {
            "text/plain": [
              "0.15625"
            ]
          },
          "metadata": {},
          "execution_count": 5
        }
      ]
    },
    {
      "cell_type": "code",
      "source": [
        "number32(\"00111110001000000000001000010000\")"
      ],
      "metadata": {
        "colab": {
          "base_uri": "https://localhost:8080/"
        },
        "id": "Ir_CkuZYxrgs",
        "outputId": "d47b8191-2b1e-4ae7-d1ed-3248d4998010"
      },
      "id": "Ir_CkuZYxrgs",
      "execution_count": 6,
      "outputs": [
        {
          "output_type": "execute_result",
          "data": {
            "text/plain": [
              "0.15625786781311035"
            ]
          },
          "metadata": {},
          "execution_count": 6
        }
      ]
    },
    {
      "cell_type": "code",
      "execution_count": 7,
      "id": "155ffd7f",
      "metadata": {
        "id": "155ffd7f",
        "outputId": "0bbdd33a-b075-46cc-e799-a4a561dbad78",
        "colab": {
          "base_uri": "https://localhost:8080/"
        }
      },
      "outputs": [
        {
          "output_type": "stream",
          "name": "stdout",
          "text": [
            "La función no ha sido definda o el numero de argumento no es el adecuado\n"
          ]
        }
      ],
      "source": [
        "%run -i {path}/Act_02/test02.py"
      ]
    },
    {
      "cell_type": "markdown",
      "id": "d11e596d",
      "metadata": {
        "id": "d11e596d"
      },
      "source": [
        "### Activity 3.0:\n",
        "1. Write a python script that calculates the double precision number represented by a 64-bits binary.\n",
        "\n",
        "the name of function should be: \n",
        "```\n",
        "number64(BIN):\n",
        "\n",
        "```\n",
        "\n",
        "2. What is the number represented by:\n",
        "\n",
        "BIN=\"0 10000000011 1011100100001111111111111111111111111111111111111111\""
      ]
    },
    {
      "cell_type": "code",
      "execution_count": 10,
      "id": "b0922a1d",
      "metadata": {
        "id": "b0922a1d"
      },
      "outputs": [],
      "source": [
        "def number64(BIN):\n",
        "   bin=list(BIN[::-1])\n",
        "   BIN=np.array(bin).astype(int)\n",
        "   signo=BIN[63]\n",
        "   \n",
        "   #Parte exponencial\n",
        "   index1=np.arange(0,11)\n",
        "   b=BIN[52:63]\n",
        "   e=(b*2**index1).sum()\n",
        "  #parte fraccional \n",
        "   index2=np.arange(1,53)\n",
        "   b2=BIN[1:53]\n",
        "   pf=(b2[::-1]*(1/(2**(index2)))).sum()\n",
        "   a=(-1)**signo*2**(e-1023)\n",
        "   b=1+pf\n",
        "   T=a*b\n",
        "   return T"
      ]
    },
    {
      "cell_type": "code",
      "source": [
        "BIN=\"0100000000111011100100001111111111111111111111111111111111111111\"\n",
        "number64(BIN)"
      ],
      "metadata": {
        "id": "bDzf0-XFKvD-",
        "colab": {
          "base_uri": "https://localhost:8080/"
        },
        "outputId": "410c1083-82eb-46d2-e7e8-ebc32415ea78"
      },
      "id": "bDzf0-XFKvD-",
      "execution_count": 11,
      "outputs": [
        {
          "output_type": "execute_result",
          "data": {
            "text/plain": [
              "29.783203124999996"
            ]
          },
          "metadata": {},
          "execution_count": 11
        }
      ]
    },
    {
      "cell_type": "code",
      "execution_count": null,
      "id": "cd48a992",
      "metadata": {
        "scrolled": false,
        "id": "cd48a992",
        "outputId": "826ecc72-66da-4d0c-e53e-fe74978a201e",
        "colab": {
          "base_uri": "https://localhost:8080/"
        }
      },
      "outputs": [
        {
          "output_type": "stream",
          "name": "stdout",
          "text": [
            "La función no ha sido definda o el numero de argumento no es el adecuado\n"
          ]
        }
      ],
      "source": [
        "%run -i {path}/Act_02/test03.py"
      ]
    }
  ],
  "metadata": {
    "kernelspec": {
      "display_name": "Python 3 (ipykernel)",
      "language": "python",
      "name": "python3"
    },
    "language_info": {
      "codemirror_mode": {
        "name": "ipython",
        "version": 3
      },
      "file_extension": ".py",
      "mimetype": "text/x-python",
      "name": "python",
      "nbconvert_exporter": "python",
      "pygments_lexer": "ipython3",
      "version": "3.8.12"
    },
    "colab": {
      "provenance": []
    }
  },
  "nbformat": 4,
  "nbformat_minor": 5
}