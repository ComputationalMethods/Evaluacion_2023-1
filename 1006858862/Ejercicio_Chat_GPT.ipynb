{
  "nbformat": 4,
  "nbformat_minor": 0,
  "metadata": {
    "colab": {
      "provenance": []
    },
    "kernelspec": {
      "name": "python3",
      "display_name": "Python 3"
    },
    "language_info": {
      "name": "python"
    }
  },
  "cells": [
    {
      "cell_type": "code",
      "execution_count": 27,
      "metadata": {
        "id": "oJ80RQ21CmKD"
      },
      "outputs": [],
      "source": [
        "#Pregunté acerca de 'sets' al chat GPT y de como puedo manipularlos\n",
        "\n",
        "s = set()\n",
        "s = {1, 2, 3}\n"
      ]
    },
    {
      "cell_type": "code",
      "source": [
        "#Algunas de las herramientas que se pueden emplear en los 'sets' son el conteo de elementos \n",
        "#detro de ellos o verificar si un elemento está en el conjunto\n",
        "\n",
        "len(s) #para contar cuantos elementos hay"
      ],
      "metadata": {
        "colab": {
          "base_uri": "https://localhost:8080/"
        },
        "id": "8_YR2a4rEb3O",
        "outputId": "d5241330-c845-4b6a-f242-38edc421614a"
      },
      "execution_count": 40,
      "outputs": [
        {
          "output_type": "execute_result",
          "data": {
            "text/plain": [
              "3"
            ]
          },
          "metadata": {},
          "execution_count": 40
        }
      ]
    },
    {
      "cell_type": "code",
      "source": [
        "5 in s #para verificar si un elemento pertenece al conjunto\n"
      ],
      "metadata": {
        "colab": {
          "base_uri": "https://localhost:8080/"
        },
        "id": "B10CYEgaE-9M",
        "outputId": "6294fd51-5af3-4402-e6e5-6350f2058c41"
      },
      "execution_count": 29,
      "outputs": [
        {
          "output_type": "execute_result",
          "data": {
            "text/plain": [
              "False"
            ]
          },
          "metadata": {},
          "execution_count": 29
        }
      ]
    },
    {
      "cell_type": "code",
      "source": [
        "#También es posible adicionar elementos a el conjunto\n",
        "s.add(4)\n",
        "s"
      ],
      "metadata": {
        "colab": {
          "base_uri": "https://localhost:8080/"
        },
        "id": "_6iHlyolFM9w",
        "outputId": "be8d9e34-9507-426d-d11b-8252cf58866b"
      },
      "execution_count": 30,
      "outputs": [
        {
          "output_type": "execute_result",
          "data": {
            "text/plain": [
              "{1, 2, 3, 4}"
            ]
          },
          "metadata": {},
          "execution_count": 30
        }
      ]
    },
    {
      "cell_type": "code",
      "source": [
        "#Y eliminarlos\n",
        "s.remove(4)\n",
        "s\n"
      ],
      "metadata": {
        "colab": {
          "base_uri": "https://localhost:8080/"
        },
        "id": "Mf4niCA3F0bm",
        "outputId": "a354c1f7-1135-49f7-e71a-0f96bd357b57"
      },
      "execution_count": 31,
      "outputs": [
        {
          "output_type": "execute_result",
          "data": {
            "text/plain": [
              "{1, 2, 3}"
            ]
          },
          "metadata": {},
          "execution_count": 31
        }
      ]
    },
    {
      "cell_type": "code",
      "source": [
        "#Se puede establecer la unión de dos conjuntos\n",
        "t = {3, 4, 5}\n",
        "s.union(t)\n"
      ],
      "metadata": {
        "colab": {
          "base_uri": "https://localhost:8080/"
        },
        "id": "EyFmXsD0Ggn5",
        "outputId": "a16d59c4-3fcd-4749-8c72-59e5cd0744cd"
      },
      "execution_count": 32,
      "outputs": [
        {
          "output_type": "execute_result",
          "data": {
            "text/plain": [
              "{1, 2, 3, 4, 5}"
            ]
          },
          "metadata": {},
          "execution_count": 32
        }
      ]
    },
    {
      "cell_type": "code",
      "source": [
        "#Como también la intersección \n",
        "s.intersection(t)"
      ],
      "metadata": {
        "colab": {
          "base_uri": "https://localhost:8080/"
        },
        "id": "zC_wvrjsGsCr",
        "outputId": "15ab3b7e-822a-4441-8531-8edee83fc914"
      },
      "execution_count": 33,
      "outputs": [
        {
          "output_type": "execute_result",
          "data": {
            "text/plain": [
              "{3}"
            ]
          },
          "metadata": {},
          "execution_count": 33
        }
      ]
    },
    {
      "cell_type": "code",
      "source": [
        "#y la diferencia\n",
        "s.difference(t)"
      ],
      "metadata": {
        "colab": {
          "base_uri": "https://localhost:8080/"
        },
        "id": "m-n8Qh0AG015",
        "outputId": "0e5aad69-c36c-428c-8ad0-f349c4ac626c"
      },
      "execution_count": 34,
      "outputs": [
        {
          "output_type": "execute_result",
          "data": {
            "text/plain": [
              "{1, 2}"
            ]
          },
          "metadata": {},
          "execution_count": 34
        }
      ]
    },
    {
      "cell_type": "code",
      "source": [
        "#y la diferencia simétrica entre ellos\n",
        "s.symmetric_difference(t)"
      ],
      "metadata": {
        "colab": {
          "base_uri": "https://localhost:8080/"
        },
        "id": "Mfb6qkaoG9iA",
        "outputId": "34304833-5884-4e7b-ac23-e822ae7d741a"
      },
      "execution_count": 35,
      "outputs": [
        {
          "output_type": "execute_result",
          "data": {
            "text/plain": [
              "{1, 2, 4, 5}"
            ]
          },
          "metadata": {},
          "execution_count": 35
        }
      ]
    },
    {
      "cell_type": "code",
      "source": [
        "#Así como se puede adicionar un solo elemento al 'set', se puede hacer con varios a la \n",
        "s = {1, 2, 3}\n",
        "s.update([4, 5, 6])\n",
        "s\n",
        "\n"
      ],
      "metadata": {
        "colab": {
          "base_uri": "https://localhost:8080/"
        },
        "id": "adhgeyBuHFGd",
        "outputId": "d6292a75-2f1f-4d1d-d44f-574be3c9a56f"
      },
      "execution_count": 36,
      "outputs": [
        {
          "output_type": "execute_result",
          "data": {
            "text/plain": [
              "{1, 2, 3, 4, 5, 6}"
            ]
          },
          "metadata": {},
          "execution_count": 36
        }
      ]
    },
    {
      "cell_type": "code",
      "source": [
        "#o también se puede hacer de la siguiente manera\n",
        "s = {1, 2, 3}\n",
        "s |= {4, 5, 6}\n",
        "s\n",
        "\n"
      ],
      "metadata": {
        "colab": {
          "base_uri": "https://localhost:8080/"
        },
        "id": "laMulwUvH0_u",
        "outputId": "8f033c35-48dd-4ce1-f1ac-c46b985fd9e0"
      },
      "execution_count": 37,
      "outputs": [
        {
          "output_type": "execute_result",
          "data": {
            "text/plain": [
              "{1, 2, 3, 4, 5, 6}"
            ]
          },
          "metadata": {},
          "execution_count": 37
        }
      ]
    },
    {
      "cell_type": "code",
      "source": [
        "#Los elementos de un conjunto pueden ser mezclados, es decir, pueden ser strings y números\n",
        "s = {1, 2, \"hello\", \"world\"}\n",
        "s\n",
        "\n"
      ],
      "metadata": {
        "colab": {
          "base_uri": "https://localhost:8080/"
        },
        "id": "lCOLCdGTH0yY",
        "outputId": "6748715b-2ce0-4c2e-bd2d-7e084ead217c"
      },
      "execution_count": 38,
      "outputs": [
        {
          "output_type": "execute_result",
          "data": {
            "text/plain": [
              "{1, 2, 'hello', 'world'}"
            ]
          },
          "metadata": {},
          "execution_count": 38
        }
      ]
    },
    {
      "cell_type": "code",
      "source": [
        "#Pregunté acerca de la posibilidad de tener un 'set' como elempento dentro de otro 'set'\n",
        "#Yes, you can have a set as an element of another set in Python. However, you need to be careful when working \n",
        "#with nested sets, as sets are mutable and can be changed, which can lead to unexpected behavior. \n",
        "#Here's an example of a set that contains another set as an element:\n",
        "\n",
        ">>> s = {1, 2, {3, 4}}\n",
        "Traceback (most recent call last):\n",
        "  File \"<stdin>\", line 1, in <module>\n",
        "TypeError: unhashable type: 'set'"
      ],
      "metadata": {
        "id": "WSLNTBKHJC0j"
      },
      "execution_count": null,
      "outputs": []
    },
    {
      "cell_type": "code",
      "source": [
        "#As you can see from the error message, you cannot have a set as an element of another set because sets are mutable and therefore unhashable. \n",
        "#To work around this limitation, you can use a frozenset instead, which is an immutable version of a set:\n",
        "\n",
        "s = {1, 2, frozenset({3, 4})}\n",
        "s\n"
      ],
      "metadata": {
        "colab": {
          "base_uri": "https://localhost:8080/"
        },
        "id": "Y6UYwwGbJdmj",
        "outputId": "b38f281e-d10c-4757-bc7c-65232dc01f9e"
      },
      "execution_count": 39,
      "outputs": [
        {
          "output_type": "execute_result",
          "data": {
            "text/plain": [
              "{1, 2, frozenset({3, 4})}"
            ]
          },
          "metadata": {},
          "execution_count": 39
        }
      ]
    },
    {
      "cell_type": "code",
      "source": [
        "#Una vez introducido el concepto del 'frozenset', pregunté si estos se podían somenter a cambios debido a que también son conjuntos\n",
        "#No, you cannot modify a frozenset once it has been created. Frozensets are immutable, which means that you cannot add, remove, \n",
        "#or change elements in a frozenset after it has been created. The main advantage of using a frozenset instead of a set is that you \n",
        "#can include a frozenset as an element of another set, because frozensets are hashable and therefore can be used as elements in sets. \n",
        "#Here's an example:\n",
        "\n",
        ">>> s = {1, 2, frozenset({3, 4})}\n",
        ">>> s\n",
        "{1, 2, frozenset({3, 4})}\n",
        "\n",
        ">>> # This will raise an error because frozensets are immutable\n",
        ">>> frozenset({3, 4}).add(5)\n",
        "AttributeError: 'frozenset' object has no attribute 'add'"
      ],
      "metadata": {
        "id": "oZmLTNshKBr_"
      },
      "execution_count": null,
      "outputs": []
    },
    {
      "cell_type": "code",
      "source": [
        "#Acerca de más características de los frozenset:\n",
        "#2) Hashable: A frozenset can be used as a key in dictionaries and as an element in sets, \n",
        "#because frozensets are hashable and therefore can be used as elements in sets.\n",
        "s = frozenset({1, 2, 3})\n",
        "d = {s: \"frozenset\"}\n",
        "d"
      ],
      "metadata": {
        "colab": {
          "base_uri": "https://localhost:8080/"
        },
        "id": "wqABghvULZjf",
        "outputId": "689ab027-1534-48ef-ae77-237faa39f730"
      },
      "execution_count": 41,
      "outputs": [
        {
          "output_type": "execute_result",
          "data": {
            "text/plain": [
              "{frozenset({1, 2, 3}): 'frozenset'}"
            ]
          },
          "metadata": {},
          "execution_count": 41
        }
      ]
    },
    {
      "cell_type": "code",
      "source": [
        "#3)Unordered: The elements of a frozenset are unordered, meaning that the order of the elements in the frozenset is not defined.\n",
        "s = frozenset({1, 3, 2})\n",
        "for element in s:\n",
        "  print(element)"
      ],
      "metadata": {
        "colab": {
          "base_uri": "https://localhost:8080/"
        },
        "id": "DFn6yCmmL5sv",
        "outputId": "6f4e82de-a95f-40fb-fb94-c423fad6f303"
      },
      "execution_count": 48,
      "outputs": [
        {
          "output_type": "stream",
          "name": "stdout",
          "text": [
            "1\n",
            "2\n",
            "3\n"
          ]
        }
      ]
    },
    {
      "cell_type": "code",
      "source": [
        "#4)Supports Set Operations: You can perform set operations such as union, intersection, difference, and symmetric difference \n",
        "#on frozensets, just as you can with sets.\n",
        "s1 = frozenset({1, 2, 3})\n",
        "s2 = frozenset({2, 3, 4})\n",
        "\n",
        "s1 | s2 # Union"
      ],
      "metadata": {
        "colab": {
          "base_uri": "https://localhost:8080/"
        },
        "id": "zx7AbsahMV_N",
        "outputId": "a3117e65-6bb2-43cf-a43d-820f618b6db3"
      },
      "execution_count": 50,
      "outputs": [
        {
          "output_type": "execute_result",
          "data": {
            "text/plain": [
              "frozenset({1, 2, 3, 4})"
            ]
          },
          "metadata": {},
          "execution_count": 50
        }
      ]
    },
    {
      "cell_type": "code",
      "source": [
        "s1 & s2 # Intersection\n"
      ],
      "metadata": {
        "colab": {
          "base_uri": "https://localhost:8080/"
        },
        "id": "ELwv1pU6Mu5Q",
        "outputId": "1e7e1714-0e93-4180-c443-b586503e349f"
      },
      "execution_count": 51,
      "outputs": [
        {
          "output_type": "execute_result",
          "data": {
            "text/plain": [
              "frozenset({2, 3})"
            ]
          },
          "metadata": {},
          "execution_count": 51
        }
      ]
    },
    {
      "cell_type": "code",
      "source": [
        "s1 - s2 # Difference"
      ],
      "metadata": {
        "colab": {
          "base_uri": "https://localhost:8080/"
        },
        "id": "dC9uihcBMyDd",
        "outputId": "28fa01ec-9e1a-4782-d0cb-385e4c6492d9"
      },
      "execution_count": 52,
      "outputs": [
        {
          "output_type": "execute_result",
          "data": {
            "text/plain": [
              "frozenset({1})"
            ]
          },
          "metadata": {},
          "execution_count": 52
        }
      ]
    },
    {
      "cell_type": "code",
      "source": [
        "s1 ^ s2 # Symmetric Difference"
      ],
      "metadata": {
        "colab": {
          "base_uri": "https://localhost:8080/"
        },
        "id": "3uX7ntFCM0cR",
        "outputId": "f9111f63-1350-4499-b619-4c6f3ecb3bf9"
      },
      "execution_count": 53,
      "outputs": [
        {
          "output_type": "execute_result",
          "data": {
            "text/plain": [
              "frozenset({1, 4})"
            ]
          },
          "metadata": {},
          "execution_count": 53
        }
      ]
    },
    {
      "cell_type": "code",
      "source": [
        "#5)Supports Membership Testing: You can test whether an element is a member of a frozenset using the in operator.\n",
        "s = frozenset({1, 2, 3})\n",
        "2 in s"
      ],
      "metadata": {
        "colab": {
          "base_uri": "https://localhost:8080/"
        },
        "id": "Riuzg6WTM7Qu",
        "outputId": "9eb410f2-6cfd-4f5b-fd5a-9fd2abc0cb50"
      },
      "execution_count": 54,
      "outputs": [
        {
          "output_type": "execute_result",
          "data": {
            "text/plain": [
              "True"
            ]
          },
          "metadata": {},
          "execution_count": 54
        }
      ]
    },
    {
      "cell_type": "code",
      "source": [
        "4 in s"
      ],
      "metadata": {
        "colab": {
          "base_uri": "https://localhost:8080/"
        },
        "id": "LSe-RgedNS44",
        "outputId": "4f2a6f59-d841-4d08-bc32-5be35739e088"
      },
      "execution_count": 55,
      "outputs": [
        {
          "output_type": "execute_result",
          "data": {
            "text/plain": [
              "False"
            ]
          },
          "metadata": {},
          "execution_count": 55
        }
      ]
    },
    {
      "cell_type": "code",
      "source": [
        "#6)Supports Subset and Superset Testing: You can test whether a frozenset is a subset or superset of another frozenset using \n",
        "#the <= and >= operators, respectively.\n",
        "s1 = frozenset({1, 2, 3})\n",
        "s2 = frozenset({1, 2})\n",
        "\n",
        "s2 <= s1 # s2 is a subset of s1"
      ],
      "metadata": {
        "colab": {
          "base_uri": "https://localhost:8080/"
        },
        "id": "C3B7dIkDNbVf",
        "outputId": "7d1d272b-6eee-4814-bb36-11a19ffdc9ea"
      },
      "execution_count": 56,
      "outputs": [
        {
          "output_type": "execute_result",
          "data": {
            "text/plain": [
              "True"
            ]
          },
          "metadata": {},
          "execution_count": 56
        }
      ]
    },
    {
      "cell_type": "code",
      "source": [
        "s1 >= s2 # s1 is a superset of s2"
      ],
      "metadata": {
        "colab": {
          "base_uri": "https://localhost:8080/"
        },
        "id": "Ep2hET4KNt49",
        "outputId": "c6eeb99c-8274-4062-8dfb-0c2e06bcb2ec"
      },
      "execution_count": 57,
      "outputs": [
        {
          "output_type": "execute_result",
          "data": {
            "text/plain": [
              "True"
            ]
          },
          "metadata": {},
          "execution_count": 57
        }
      ]
    }
  ]
}